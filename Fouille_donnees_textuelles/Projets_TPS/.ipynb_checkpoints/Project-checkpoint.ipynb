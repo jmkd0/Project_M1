{
 "cells": [
  {
   "cell_type": "markdown",
   "metadata": {},
   "source": [
    "# Projet de Fouille de donnees Textuelles"
   ]
  },
  {
   "cell_type": "markdown",
   "metadata": {},
   "source": [
    "### Import des librairies"
   ]
  },
  {
   "cell_type": "code",
   "execution_count": 2,
   "metadata": {},
   "outputs": [],
   "source": [
    "# Import some librairies\n",
    "import numpy as np\n",
    "import pandas as pd\n",
    "import seaborn as sns\n",
    "import re\n",
    "from matplotlib import pyplot as plt\n",
    "from sklearn.datasets import fetch_20newsgroups"
   ]
  },
  {
   "cell_type": "markdown",
   "metadata": {},
   "source": [
    "### Overview of the data"
   ]
  },
  {
   "cell_type": "code",
   "execution_count": 3,
   "metadata": {},
   "outputs": [
    {
     "name": "stdout",
     "output_type": "stream",
     "text": [
      "From: bmdelane@quads.uchicago.edu (brian manning delaney)\n",
      "Subject: Brain Tumor Treatment (thanks)\n",
      "Reply-To: bmdelane@midway.uchicago.edu\n",
      "Organization: University of Chicago\n",
      "Lines: 12\n",
      "\n",
      "There were a few people who responded to my request for info on\n",
      "treatment for astrocytomas through email, whom I couldn't thank\n",
      "directly because of mail-bouncing probs (Sean, Debra, and Sharon).  So\n",
      "I thought I'd publicly thank everyone.\n",
      "\n",
      "Thanks! \n",
      "\n",
      "(I'm sure glad I accidentally hit \"rn\" instead of \"rm\" when I was\n",
      "trying to delete a file last September. \"Hmmm... 'News?' What's\n",
      "this?\"....)\n",
      "\n",
      "-Brian\n",
      "\n",
      "Classes:  ['alt.atheism', 'comp.graphics', 'comp.os.ms-windows.misc', 'comp.sys.ibm.pc.hardware', 'comp.sys.mac.hardware', 'comp.windows.x', 'misc.forsale', 'rec.autos', 'rec.motorcycles', 'rec.sport.baseball', 'rec.sport.hockey', 'sci.crypt', 'sci.electronics', 'sci.med', 'sci.space', 'soc.religion.christian', 'talk.politics.guns', 'talk.politics.mideast', 'talk.politics.misc', 'talk.religion.misc']\n"
     ]
    }
   ],
   "source": [
    "raw_data = fetch_20newsgroups()\n",
    "# Have a Look on one data\n",
    "print(raw_data.data[6])\n",
    "# Display all possible classes\n",
    "print(\"Classes: \",raw_data.target_names)\n",
    "np.shape(raw_data.data)\n",
    "text = raw_data.data[6]"
   ]
  },
  {
   "cell_type": "code",
   "execution_count": 4,
   "metadata": {},
   "outputs": [
    {
     "name": "stdout",
     "output_type": "stream",
     "text": [
      "Train data shape  (2252,)\n"
     ]
    }
   ],
   "source": [
    "# I choose four type of texts : talk.politics.misc, soc.religion.christian, comp.os.ms-windows.misc, rec.sport.baseball\n",
    "classes = [\"talk.politics.misc\", \"soc.religion.christian\", \"comp.os.ms-windows.misc\", \"rec.sport.baseball\"]\n",
    "raw_data = fetch_20newsgroups(categories=classes)\n",
    "#Shapes\n",
    "print(\"Train data shape \", np.shape(raw_data.data))"
   ]
  },
  {
   "cell_type": "markdown",
   "metadata": {},
   "source": [
    "## 1- Text Processing and Transformation"
   ]
  },
  {
   "cell_type": "code",
   "execution_count": 5,
   "metadata": {},
   "outputs": [],
   "source": [
    "#Convert text do features\n",
    "def all_document_tokenized(all_documents):    \n",
    "    tokens = []\n",
    "    # document and tokens\n",
    "    documents = []\n",
    "    for document in all_documents:   \n",
    "        document = document.lower()\n",
    "        document = re.sub(\"[^\\w]\", \" \", document)\n",
    "        documents.append(document)\n",
    "        tokens.extend(document.split())\n",
    "    tokens = sorted(list(set(tokens)))\n",
    "    return tokens, documents\n",
    "\n",
    "\n",
    "def CountVectorizerOwn(all_documents):\n",
    "    tokens, documents = all_document_tokenized(all_documents)  \n",
    "    data = []\n",
    "    # Extract feature in data\n",
    "    for i, document in enumerate(documents):\n",
    "        bag_vector = np.zeros(len(tokens))\n",
    "        for j, token in enumerate(tokens):\n",
    "            bag_vector[j] = document.split().count(token)\n",
    "        data.append(np.array(bag_vector))\n",
    "    return np.array(data)\n",
    "        \n",
    "def TfidfTransformerOwn(data):\n",
    "    # Term Frequencies\n",
    "    #Data \n",
    "    for i, li in enumerate(data):\n",
    "        data[i] = li/np.sum(li)\n",
    "        \n",
    "    # Inverse Document Frequency\n",
    "    #Data train\n",
    "    nb_documents = len(data[:,0])\n",
    "    nb_features = len(data[0])\n",
    "    for i in range(nb_features):\n",
    "        non_zero = np.count_nonzero(data[:,i])\n",
    "        data[:,i] = data[:,i] * (np.log(nb_documents / non_zero) / np.log(10))\n",
    "        \n",
    "    return data"
   ]
  },
  {
   "cell_type": "code",
   "execution_count": 6,
   "metadata": {},
   "outputs": [],
   "source": [
    "from sklearn.feature_extraction.text import CountVectorizer\n",
    "from sklearn.feature_extraction.text import TfidfTransformer\n",
    "def TextProcessing(raw_data, method):\n",
    "    if(method == \"my_own\"):\n",
    "        #Transform Data\n",
    "        data = CountVectorizerOwn(raw_data)\n",
    "        data = TfidfTransformerOwn(data)\n",
    "    elif method == \"scikit-learn\":\n",
    "        data = CountVectorizer().fit_transform(raw_data)\n",
    "        tf_transformer = TfidfTransformer(use_idf=False).fit(data)\n",
    "        data = tf_transformer.transform(data)\n",
    "    return data"
   ]
  },
  {
   "cell_type": "markdown",
   "metadata": {},
   "source": [
    "### Dataset with Own algorithm"
   ]
  },
  {
   "cell_type": "code",
   "execution_count": 7,
   "metadata": {},
   "outputs": [],
   "source": [
    "data_own = TextProcessing(raw_data.data[:500], \"my_own\")"
   ]
  },
  {
   "cell_type": "code",
   "execution_count": 8,
   "metadata": {},
   "outputs": [
    {
     "data": {
      "text/html": [
       "<div>\n",
       "<style scoped>\n",
       "    .dataframe tbody tr th:only-of-type {\n",
       "        vertical-align: middle;\n",
       "    }\n",
       "\n",
       "    .dataframe tbody tr th {\n",
       "        vertical-align: top;\n",
       "    }\n",
       "\n",
       "    .dataframe thead th {\n",
       "        text-align: right;\n",
       "    }\n",
       "</style>\n",
       "<table border=\"1\" class=\"dataframe\">\n",
       "  <thead>\n",
       "    <tr style=\"text-align: right;\">\n",
       "      <th></th>\n",
       "      <th>0</th>\n",
       "      <th>1</th>\n",
       "      <th>2</th>\n",
       "      <th>3</th>\n",
       "      <th>4</th>\n",
       "      <th>5</th>\n",
       "      <th>6</th>\n",
       "      <th>7</th>\n",
       "      <th>8</th>\n",
       "      <th>9</th>\n",
       "      <th>...</th>\n",
       "      <th>23973</th>\n",
       "      <th>23974</th>\n",
       "      <th>23975</th>\n",
       "      <th>23976</th>\n",
       "      <th>23977</th>\n",
       "      <th>23978</th>\n",
       "      <th>23979</th>\n",
       "      <th>23980</th>\n",
       "      <th>23981</th>\n",
       "      <th>23982</th>\n",
       "    </tr>\n",
       "  </thead>\n",
       "  <tbody>\n",
       "    <tr>\n",
       "      <th>0</th>\n",
       "      <td>0.000000</td>\n",
       "      <td>0.0</td>\n",
       "      <td>0.0</td>\n",
       "      <td>0.0</td>\n",
       "      <td>0.0</td>\n",
       "      <td>0.0</td>\n",
       "      <td>0.0</td>\n",
       "      <td>0.0</td>\n",
       "      <td>0.0</td>\n",
       "      <td>0.000000</td>\n",
       "      <td>...</td>\n",
       "      <td>0.0</td>\n",
       "      <td>0.0</td>\n",
       "      <td>0.0</td>\n",
       "      <td>0.0</td>\n",
       "      <td>0.000000</td>\n",
       "      <td>0.0</td>\n",
       "      <td>0.0</td>\n",
       "      <td>0.000000</td>\n",
       "      <td>0.0</td>\n",
       "      <td>0.0</td>\n",
       "    </tr>\n",
       "    <tr>\n",
       "      <th>1</th>\n",
       "      <td>0.007043</td>\n",
       "      <td>0.0</td>\n",
       "      <td>0.0</td>\n",
       "      <td>0.0</td>\n",
       "      <td>0.0</td>\n",
       "      <td>0.0</td>\n",
       "      <td>0.0</td>\n",
       "      <td>0.0</td>\n",
       "      <td>0.0</td>\n",
       "      <td>0.000000</td>\n",
       "      <td>...</td>\n",
       "      <td>0.0</td>\n",
       "      <td>0.0</td>\n",
       "      <td>0.0</td>\n",
       "      <td>0.0</td>\n",
       "      <td>0.000000</td>\n",
       "      <td>0.0</td>\n",
       "      <td>0.0</td>\n",
       "      <td>0.000000</td>\n",
       "      <td>0.0</td>\n",
       "      <td>0.0</td>\n",
       "    </tr>\n",
       "    <tr>\n",
       "      <th>2</th>\n",
       "      <td>0.000000</td>\n",
       "      <td>0.0</td>\n",
       "      <td>0.0</td>\n",
       "      <td>0.0</td>\n",
       "      <td>0.0</td>\n",
       "      <td>0.0</td>\n",
       "      <td>0.0</td>\n",
       "      <td>0.0</td>\n",
       "      <td>0.0</td>\n",
       "      <td>0.000000</td>\n",
       "      <td>...</td>\n",
       "      <td>0.0</td>\n",
       "      <td>0.0</td>\n",
       "      <td>0.0</td>\n",
       "      <td>0.0</td>\n",
       "      <td>0.000000</td>\n",
       "      <td>0.0</td>\n",
       "      <td>0.0</td>\n",
       "      <td>0.000000</td>\n",
       "      <td>0.0</td>\n",
       "      <td>0.0</td>\n",
       "    </tr>\n",
       "    <tr>\n",
       "      <th>3</th>\n",
       "      <td>0.000000</td>\n",
       "      <td>0.0</td>\n",
       "      <td>0.0</td>\n",
       "      <td>0.0</td>\n",
       "      <td>0.0</td>\n",
       "      <td>0.0</td>\n",
       "      <td>0.0</td>\n",
       "      <td>0.0</td>\n",
       "      <td>0.0</td>\n",
       "      <td>0.000000</td>\n",
       "      <td>...</td>\n",
       "      <td>0.0</td>\n",
       "      <td>0.0</td>\n",
       "      <td>0.0</td>\n",
       "      <td>0.0</td>\n",
       "      <td>0.000000</td>\n",
       "      <td>0.0</td>\n",
       "      <td>0.0</td>\n",
       "      <td>0.000000</td>\n",
       "      <td>0.0</td>\n",
       "      <td>0.0</td>\n",
       "    </tr>\n",
       "    <tr>\n",
       "      <th>4</th>\n",
       "      <td>0.000000</td>\n",
       "      <td>0.0</td>\n",
       "      <td>0.0</td>\n",
       "      <td>0.0</td>\n",
       "      <td>0.0</td>\n",
       "      <td>0.0</td>\n",
       "      <td>0.0</td>\n",
       "      <td>0.0</td>\n",
       "      <td>0.0</td>\n",
       "      <td>0.000000</td>\n",
       "      <td>...</td>\n",
       "      <td>0.0</td>\n",
       "      <td>0.0</td>\n",
       "      <td>0.0</td>\n",
       "      <td>0.0</td>\n",
       "      <td>0.006206</td>\n",
       "      <td>0.0</td>\n",
       "      <td>0.0</td>\n",
       "      <td>0.006698</td>\n",
       "      <td>0.0</td>\n",
       "      <td>0.0</td>\n",
       "    </tr>\n",
       "    <tr>\n",
       "      <th>...</th>\n",
       "      <td>...</td>\n",
       "      <td>...</td>\n",
       "      <td>...</td>\n",
       "      <td>...</td>\n",
       "      <td>...</td>\n",
       "      <td>...</td>\n",
       "      <td>...</td>\n",
       "      <td>...</td>\n",
       "      <td>...</td>\n",
       "      <td>...</td>\n",
       "      <td>...</td>\n",
       "      <td>...</td>\n",
       "      <td>...</td>\n",
       "      <td>...</td>\n",
       "      <td>...</td>\n",
       "      <td>...</td>\n",
       "      <td>...</td>\n",
       "      <td>...</td>\n",
       "      <td>...</td>\n",
       "      <td>...</td>\n",
       "      <td>...</td>\n",
       "    </tr>\n",
       "    <tr>\n",
       "      <th>495</th>\n",
       "      <td>0.000000</td>\n",
       "      <td>0.0</td>\n",
       "      <td>0.0</td>\n",
       "      <td>0.0</td>\n",
       "      <td>0.0</td>\n",
       "      <td>0.0</td>\n",
       "      <td>0.0</td>\n",
       "      <td>0.0</td>\n",
       "      <td>0.0</td>\n",
       "      <td>0.000000</td>\n",
       "      <td>...</td>\n",
       "      <td>0.0</td>\n",
       "      <td>0.0</td>\n",
       "      <td>0.0</td>\n",
       "      <td>0.0</td>\n",
       "      <td>0.000000</td>\n",
       "      <td>0.0</td>\n",
       "      <td>0.0</td>\n",
       "      <td>0.000000</td>\n",
       "      <td>0.0</td>\n",
       "      <td>0.0</td>\n",
       "    </tr>\n",
       "    <tr>\n",
       "      <th>496</th>\n",
       "      <td>0.000000</td>\n",
       "      <td>0.0</td>\n",
       "      <td>0.0</td>\n",
       "      <td>0.0</td>\n",
       "      <td>0.0</td>\n",
       "      <td>0.0</td>\n",
       "      <td>0.0</td>\n",
       "      <td>0.0</td>\n",
       "      <td>0.0</td>\n",
       "      <td>0.000000</td>\n",
       "      <td>...</td>\n",
       "      <td>0.0</td>\n",
       "      <td>0.0</td>\n",
       "      <td>0.0</td>\n",
       "      <td>0.0</td>\n",
       "      <td>0.000000</td>\n",
       "      <td>0.0</td>\n",
       "      <td>0.0</td>\n",
       "      <td>0.000000</td>\n",
       "      <td>0.0</td>\n",
       "      <td>0.0</td>\n",
       "    </tr>\n",
       "    <tr>\n",
       "      <th>497</th>\n",
       "      <td>0.006424</td>\n",
       "      <td>0.0</td>\n",
       "      <td>0.0</td>\n",
       "      <td>0.0</td>\n",
       "      <td>0.0</td>\n",
       "      <td>0.0</td>\n",
       "      <td>0.0</td>\n",
       "      <td>0.0</td>\n",
       "      <td>0.0</td>\n",
       "      <td>0.016202</td>\n",
       "      <td>...</td>\n",
       "      <td>0.0</td>\n",
       "      <td>0.0</td>\n",
       "      <td>0.0</td>\n",
       "      <td>0.0</td>\n",
       "      <td>0.000000</td>\n",
       "      <td>0.0</td>\n",
       "      <td>0.0</td>\n",
       "      <td>0.000000</td>\n",
       "      <td>0.0</td>\n",
       "      <td>0.0</td>\n",
       "    </tr>\n",
       "    <tr>\n",
       "      <th>498</th>\n",
       "      <td>0.000000</td>\n",
       "      <td>0.0</td>\n",
       "      <td>0.0</td>\n",
       "      <td>0.0</td>\n",
       "      <td>0.0</td>\n",
       "      <td>0.0</td>\n",
       "      <td>0.0</td>\n",
       "      <td>0.0</td>\n",
       "      <td>0.0</td>\n",
       "      <td>0.000000</td>\n",
       "      <td>...</td>\n",
       "      <td>0.0</td>\n",
       "      <td>0.0</td>\n",
       "      <td>0.0</td>\n",
       "      <td>0.0</td>\n",
       "      <td>0.000000</td>\n",
       "      <td>0.0</td>\n",
       "      <td>0.0</td>\n",
       "      <td>0.000000</td>\n",
       "      <td>0.0</td>\n",
       "      <td>0.0</td>\n",
       "    </tr>\n",
       "    <tr>\n",
       "      <th>499</th>\n",
       "      <td>0.000000</td>\n",
       "      <td>0.0</td>\n",
       "      <td>0.0</td>\n",
       "      <td>0.0</td>\n",
       "      <td>0.0</td>\n",
       "      <td>0.0</td>\n",
       "      <td>0.0</td>\n",
       "      <td>0.0</td>\n",
       "      <td>0.0</td>\n",
       "      <td>0.000000</td>\n",
       "      <td>...</td>\n",
       "      <td>0.0</td>\n",
       "      <td>0.0</td>\n",
       "      <td>0.0</td>\n",
       "      <td>0.0</td>\n",
       "      <td>0.000000</td>\n",
       "      <td>0.0</td>\n",
       "      <td>0.0</td>\n",
       "      <td>0.000000</td>\n",
       "      <td>0.0</td>\n",
       "      <td>0.0</td>\n",
       "    </tr>\n",
       "  </tbody>\n",
       "</table>\n",
       "<p>500 rows × 23983 columns</p>\n",
       "</div>"
      ],
      "text/plain": [
       "        0      1      2      3      4      5      6      7      8      \\\n",
       "0    0.000000    0.0    0.0    0.0    0.0    0.0    0.0    0.0    0.0   \n",
       "1    0.007043    0.0    0.0    0.0    0.0    0.0    0.0    0.0    0.0   \n",
       "2    0.000000    0.0    0.0    0.0    0.0    0.0    0.0    0.0    0.0   \n",
       "3    0.000000    0.0    0.0    0.0    0.0    0.0    0.0    0.0    0.0   \n",
       "4    0.000000    0.0    0.0    0.0    0.0    0.0    0.0    0.0    0.0   \n",
       "..        ...    ...    ...    ...    ...    ...    ...    ...    ...   \n",
       "495  0.000000    0.0    0.0    0.0    0.0    0.0    0.0    0.0    0.0   \n",
       "496  0.000000    0.0    0.0    0.0    0.0    0.0    0.0    0.0    0.0   \n",
       "497  0.006424    0.0    0.0    0.0    0.0    0.0    0.0    0.0    0.0   \n",
       "498  0.000000    0.0    0.0    0.0    0.0    0.0    0.0    0.0    0.0   \n",
       "499  0.000000    0.0    0.0    0.0    0.0    0.0    0.0    0.0    0.0   \n",
       "\n",
       "        9      ...  23973  23974  23975  23976     23977  23978  23979  \\\n",
       "0    0.000000  ...    0.0    0.0    0.0    0.0  0.000000    0.0    0.0   \n",
       "1    0.000000  ...    0.0    0.0    0.0    0.0  0.000000    0.0    0.0   \n",
       "2    0.000000  ...    0.0    0.0    0.0    0.0  0.000000    0.0    0.0   \n",
       "3    0.000000  ...    0.0    0.0    0.0    0.0  0.000000    0.0    0.0   \n",
       "4    0.000000  ...    0.0    0.0    0.0    0.0  0.006206    0.0    0.0   \n",
       "..        ...  ...    ...    ...    ...    ...       ...    ...    ...   \n",
       "495  0.000000  ...    0.0    0.0    0.0    0.0  0.000000    0.0    0.0   \n",
       "496  0.000000  ...    0.0    0.0    0.0    0.0  0.000000    0.0    0.0   \n",
       "497  0.016202  ...    0.0    0.0    0.0    0.0  0.000000    0.0    0.0   \n",
       "498  0.000000  ...    0.0    0.0    0.0    0.0  0.000000    0.0    0.0   \n",
       "499  0.000000  ...    0.0    0.0    0.0    0.0  0.000000    0.0    0.0   \n",
       "\n",
       "        23980  23981  23982  \n",
       "0    0.000000    0.0    0.0  \n",
       "1    0.000000    0.0    0.0  \n",
       "2    0.000000    0.0    0.0  \n",
       "3    0.000000    0.0    0.0  \n",
       "4    0.006698    0.0    0.0  \n",
       "..        ...    ...    ...  \n",
       "495  0.000000    0.0    0.0  \n",
       "496  0.000000    0.0    0.0  \n",
       "497  0.000000    0.0    0.0  \n",
       "498  0.000000    0.0    0.0  \n",
       "499  0.000000    0.0    0.0  \n",
       "\n",
       "[500 rows x 23983 columns]"
      ]
     },
     "execution_count": 8,
     "metadata": {},
     "output_type": "execute_result"
    }
   ],
   "source": [
    "data_own = pd.DataFrame(data_own)\n",
    "data_own"
   ]
  },
  {
   "cell_type": "markdown",
   "metadata": {},
   "source": [
    "### Dataset Scikit-learn algorithm"
   ]
  },
  {
   "cell_type": "code",
   "execution_count": 138,
   "metadata": {},
   "outputs": [
    {
     "data": {
      "text/html": [
       "<div>\n",
       "<style scoped>\n",
       "    .dataframe tbody tr th:only-of-type {\n",
       "        vertical-align: middle;\n",
       "    }\n",
       "\n",
       "    .dataframe tbody tr th {\n",
       "        vertical-align: top;\n",
       "    }\n",
       "\n",
       "    .dataframe thead th {\n",
       "        text-align: right;\n",
       "    }\n",
       "</style>\n",
       "<table border=\"1\" class=\"dataframe\">\n",
       "  <thead>\n",
       "    <tr style=\"text-align: right;\">\n",
       "      <th></th>\n",
       "      <th>0</th>\n",
       "      <th>1</th>\n",
       "      <th>2</th>\n",
       "      <th>3</th>\n",
       "      <th>4</th>\n",
       "      <th>5</th>\n",
       "      <th>6</th>\n",
       "      <th>7</th>\n",
       "      <th>8</th>\n",
       "      <th>9</th>\n",
       "      <th>...</th>\n",
       "      <th>62651</th>\n",
       "      <th>62652</th>\n",
       "      <th>62653</th>\n",
       "      <th>62654</th>\n",
       "      <th>62655</th>\n",
       "      <th>62656</th>\n",
       "      <th>62657</th>\n",
       "      <th>62658</th>\n",
       "      <th>62659</th>\n",
       "      <th>62660</th>\n",
       "    </tr>\n",
       "  </thead>\n",
       "  <tbody>\n",
       "    <tr>\n",
       "      <th>0</th>\n",
       "      <td>0.000000</td>\n",
       "      <td>0.0</td>\n",
       "      <td>0.0</td>\n",
       "      <td>0.0</td>\n",
       "      <td>0.0</td>\n",
       "      <td>0.0</td>\n",
       "      <td>0.0</td>\n",
       "      <td>0.0</td>\n",
       "      <td>0.0</td>\n",
       "      <td>0.0</td>\n",
       "      <td>...</td>\n",
       "      <td>0.0</td>\n",
       "      <td>0.0</td>\n",
       "      <td>0.0</td>\n",
       "      <td>0.0</td>\n",
       "      <td>0.0</td>\n",
       "      <td>0.0</td>\n",
       "      <td>0.0</td>\n",
       "      <td>0.000000</td>\n",
       "      <td>0.0</td>\n",
       "      <td>0.0</td>\n",
       "    </tr>\n",
       "    <tr>\n",
       "      <th>1</th>\n",
       "      <td>0.000000</td>\n",
       "      <td>0.0</td>\n",
       "      <td>0.0</td>\n",
       "      <td>0.0</td>\n",
       "      <td>0.0</td>\n",
       "      <td>0.0</td>\n",
       "      <td>0.0</td>\n",
       "      <td>0.0</td>\n",
       "      <td>0.0</td>\n",
       "      <td>0.0</td>\n",
       "      <td>...</td>\n",
       "      <td>0.0</td>\n",
       "      <td>0.0</td>\n",
       "      <td>0.0</td>\n",
       "      <td>0.0</td>\n",
       "      <td>0.0</td>\n",
       "      <td>0.0</td>\n",
       "      <td>0.0</td>\n",
       "      <td>0.000000</td>\n",
       "      <td>0.0</td>\n",
       "      <td>0.0</td>\n",
       "    </tr>\n",
       "    <tr>\n",
       "      <th>2</th>\n",
       "      <td>0.000000</td>\n",
       "      <td>0.0</td>\n",
       "      <td>0.0</td>\n",
       "      <td>0.0</td>\n",
       "      <td>0.0</td>\n",
       "      <td>0.0</td>\n",
       "      <td>0.0</td>\n",
       "      <td>0.0</td>\n",
       "      <td>0.0</td>\n",
       "      <td>0.0</td>\n",
       "      <td>...</td>\n",
       "      <td>0.0</td>\n",
       "      <td>0.0</td>\n",
       "      <td>0.0</td>\n",
       "      <td>0.0</td>\n",
       "      <td>0.0</td>\n",
       "      <td>0.0</td>\n",
       "      <td>0.0</td>\n",
       "      <td>0.000000</td>\n",
       "      <td>0.0</td>\n",
       "      <td>0.0</td>\n",
       "    </tr>\n",
       "    <tr>\n",
       "      <th>3</th>\n",
       "      <td>0.000000</td>\n",
       "      <td>0.0</td>\n",
       "      <td>0.0</td>\n",
       "      <td>0.0</td>\n",
       "      <td>0.0</td>\n",
       "      <td>0.0</td>\n",
       "      <td>0.0</td>\n",
       "      <td>0.0</td>\n",
       "      <td>0.0</td>\n",
       "      <td>0.0</td>\n",
       "      <td>...</td>\n",
       "      <td>0.0</td>\n",
       "      <td>0.0</td>\n",
       "      <td>0.0</td>\n",
       "      <td>0.0</td>\n",
       "      <td>0.0</td>\n",
       "      <td>0.0</td>\n",
       "      <td>0.0</td>\n",
       "      <td>0.000000</td>\n",
       "      <td>0.0</td>\n",
       "      <td>0.0</td>\n",
       "    </tr>\n",
       "    <tr>\n",
       "      <th>4</th>\n",
       "      <td>0.000000</td>\n",
       "      <td>0.0</td>\n",
       "      <td>0.0</td>\n",
       "      <td>0.0</td>\n",
       "      <td>0.0</td>\n",
       "      <td>0.0</td>\n",
       "      <td>0.0</td>\n",
       "      <td>0.0</td>\n",
       "      <td>0.0</td>\n",
       "      <td>0.0</td>\n",
       "      <td>...</td>\n",
       "      <td>0.0</td>\n",
       "      <td>0.0</td>\n",
       "      <td>0.0</td>\n",
       "      <td>0.0</td>\n",
       "      <td>0.0</td>\n",
       "      <td>0.0</td>\n",
       "      <td>0.0</td>\n",
       "      <td>0.039778</td>\n",
       "      <td>0.0</td>\n",
       "      <td>0.0</td>\n",
       "    </tr>\n",
       "    <tr>\n",
       "      <th>...</th>\n",
       "      <td>...</td>\n",
       "      <td>...</td>\n",
       "      <td>...</td>\n",
       "      <td>...</td>\n",
       "      <td>...</td>\n",
       "      <td>...</td>\n",
       "      <td>...</td>\n",
       "      <td>...</td>\n",
       "      <td>...</td>\n",
       "      <td>...</td>\n",
       "      <td>...</td>\n",
       "      <td>...</td>\n",
       "      <td>...</td>\n",
       "      <td>...</td>\n",
       "      <td>...</td>\n",
       "      <td>...</td>\n",
       "      <td>...</td>\n",
       "      <td>...</td>\n",
       "      <td>...</td>\n",
       "      <td>...</td>\n",
       "      <td>...</td>\n",
       "    </tr>\n",
       "    <tr>\n",
       "      <th>2247</th>\n",
       "      <td>0.000000</td>\n",
       "      <td>0.0</td>\n",
       "      <td>0.0</td>\n",
       "      <td>0.0</td>\n",
       "      <td>0.0</td>\n",
       "      <td>0.0</td>\n",
       "      <td>0.0</td>\n",
       "      <td>0.0</td>\n",
       "      <td>0.0</td>\n",
       "      <td>0.0</td>\n",
       "      <td>...</td>\n",
       "      <td>0.0</td>\n",
       "      <td>0.0</td>\n",
       "      <td>0.0</td>\n",
       "      <td>0.0</td>\n",
       "      <td>0.0</td>\n",
       "      <td>0.0</td>\n",
       "      <td>0.0</td>\n",
       "      <td>0.000000</td>\n",
       "      <td>0.0</td>\n",
       "      <td>0.0</td>\n",
       "    </tr>\n",
       "    <tr>\n",
       "      <th>2248</th>\n",
       "      <td>0.000000</td>\n",
       "      <td>0.0</td>\n",
       "      <td>0.0</td>\n",
       "      <td>0.0</td>\n",
       "      <td>0.0</td>\n",
       "      <td>0.0</td>\n",
       "      <td>0.0</td>\n",
       "      <td>0.0</td>\n",
       "      <td>0.0</td>\n",
       "      <td>0.0</td>\n",
       "      <td>...</td>\n",
       "      <td>0.0</td>\n",
       "      <td>0.0</td>\n",
       "      <td>0.0</td>\n",
       "      <td>0.0</td>\n",
       "      <td>0.0</td>\n",
       "      <td>0.0</td>\n",
       "      <td>0.0</td>\n",
       "      <td>0.000000</td>\n",
       "      <td>0.0</td>\n",
       "      <td>0.0</td>\n",
       "    </tr>\n",
       "    <tr>\n",
       "      <th>2249</th>\n",
       "      <td>0.000000</td>\n",
       "      <td>0.0</td>\n",
       "      <td>0.0</td>\n",
       "      <td>0.0</td>\n",
       "      <td>0.0</td>\n",
       "      <td>0.0</td>\n",
       "      <td>0.0</td>\n",
       "      <td>0.0</td>\n",
       "      <td>0.0</td>\n",
       "      <td>0.0</td>\n",
       "      <td>...</td>\n",
       "      <td>0.0</td>\n",
       "      <td>0.0</td>\n",
       "      <td>0.0</td>\n",
       "      <td>0.0</td>\n",
       "      <td>0.0</td>\n",
       "      <td>0.0</td>\n",
       "      <td>0.0</td>\n",
       "      <td>0.000000</td>\n",
       "      <td>0.0</td>\n",
       "      <td>0.0</td>\n",
       "    </tr>\n",
       "    <tr>\n",
       "      <th>2250</th>\n",
       "      <td>0.125988</td>\n",
       "      <td>0.0</td>\n",
       "      <td>0.0</td>\n",
       "      <td>0.0</td>\n",
       "      <td>0.0</td>\n",
       "      <td>0.0</td>\n",
       "      <td>0.0</td>\n",
       "      <td>0.0</td>\n",
       "      <td>0.0</td>\n",
       "      <td>0.0</td>\n",
       "      <td>...</td>\n",
       "      <td>0.0</td>\n",
       "      <td>0.0</td>\n",
       "      <td>0.0</td>\n",
       "      <td>0.0</td>\n",
       "      <td>0.0</td>\n",
       "      <td>0.0</td>\n",
       "      <td>0.0</td>\n",
       "      <td>0.000000</td>\n",
       "      <td>0.0</td>\n",
       "      <td>0.0</td>\n",
       "    </tr>\n",
       "    <tr>\n",
       "      <th>2251</th>\n",
       "      <td>0.000000</td>\n",
       "      <td>0.0</td>\n",
       "      <td>0.0</td>\n",
       "      <td>0.0</td>\n",
       "      <td>0.0</td>\n",
       "      <td>0.0</td>\n",
       "      <td>0.0</td>\n",
       "      <td>0.0</td>\n",
       "      <td>0.0</td>\n",
       "      <td>0.0</td>\n",
       "      <td>...</td>\n",
       "      <td>0.0</td>\n",
       "      <td>0.0</td>\n",
       "      <td>0.0</td>\n",
       "      <td>0.0</td>\n",
       "      <td>0.0</td>\n",
       "      <td>0.0</td>\n",
       "      <td>0.0</td>\n",
       "      <td>0.000000</td>\n",
       "      <td>0.0</td>\n",
       "      <td>0.0</td>\n",
       "    </tr>\n",
       "  </tbody>\n",
       "</table>\n",
       "<p>2252 rows × 62661 columns</p>\n",
       "</div>"
      ],
      "text/plain": [
       "         0      1      2      3      4      5      6      7      8      9      \\\n",
       "0     0.000000    0.0    0.0    0.0    0.0    0.0    0.0    0.0    0.0    0.0   \n",
       "1     0.000000    0.0    0.0    0.0    0.0    0.0    0.0    0.0    0.0    0.0   \n",
       "2     0.000000    0.0    0.0    0.0    0.0    0.0    0.0    0.0    0.0    0.0   \n",
       "3     0.000000    0.0    0.0    0.0    0.0    0.0    0.0    0.0    0.0    0.0   \n",
       "4     0.000000    0.0    0.0    0.0    0.0    0.0    0.0    0.0    0.0    0.0   \n",
       "...        ...    ...    ...    ...    ...    ...    ...    ...    ...    ...   \n",
       "2247  0.000000    0.0    0.0    0.0    0.0    0.0    0.0    0.0    0.0    0.0   \n",
       "2248  0.000000    0.0    0.0    0.0    0.0    0.0    0.0    0.0    0.0    0.0   \n",
       "2249  0.000000    0.0    0.0    0.0    0.0    0.0    0.0    0.0    0.0    0.0   \n",
       "2250  0.125988    0.0    0.0    0.0    0.0    0.0    0.0    0.0    0.0    0.0   \n",
       "2251  0.000000    0.0    0.0    0.0    0.0    0.0    0.0    0.0    0.0    0.0   \n",
       "\n",
       "      ...  62651  62652  62653  62654  62655  62656  62657     62658  62659  \\\n",
       "0     ...    0.0    0.0    0.0    0.0    0.0    0.0    0.0  0.000000    0.0   \n",
       "1     ...    0.0    0.0    0.0    0.0    0.0    0.0    0.0  0.000000    0.0   \n",
       "2     ...    0.0    0.0    0.0    0.0    0.0    0.0    0.0  0.000000    0.0   \n",
       "3     ...    0.0    0.0    0.0    0.0    0.0    0.0    0.0  0.000000    0.0   \n",
       "4     ...    0.0    0.0    0.0    0.0    0.0    0.0    0.0  0.039778    0.0   \n",
       "...   ...    ...    ...    ...    ...    ...    ...    ...       ...    ...   \n",
       "2247  ...    0.0    0.0    0.0    0.0    0.0    0.0    0.0  0.000000    0.0   \n",
       "2248  ...    0.0    0.0    0.0    0.0    0.0    0.0    0.0  0.000000    0.0   \n",
       "2249  ...    0.0    0.0    0.0    0.0    0.0    0.0    0.0  0.000000    0.0   \n",
       "2250  ...    0.0    0.0    0.0    0.0    0.0    0.0    0.0  0.000000    0.0   \n",
       "2251  ...    0.0    0.0    0.0    0.0    0.0    0.0    0.0  0.000000    0.0   \n",
       "\n",
       "      62660  \n",
       "0       0.0  \n",
       "1       0.0  \n",
       "2       0.0  \n",
       "3       0.0  \n",
       "4       0.0  \n",
       "...     ...  \n",
       "2247    0.0  \n",
       "2248    0.0  \n",
       "2249    0.0  \n",
       "2250    0.0  \n",
       "2251    0.0  \n",
       "\n",
       "[2252 rows x 62661 columns]"
      ]
     },
     "execution_count": 138,
     "metadata": {},
     "output_type": "execute_result"
    }
   ],
   "source": [
    "data_scikit = TextProcessing(raw_data.data, \"scikit-learn\")\n",
    "data_scikit = pd.DataFrame(data_scikit.toarray())\n",
    "data_scikit"
   ]
  },
  {
   "cell_type": "markdown",
   "metadata": {},
   "source": [
    "## 2- Analysis of the dataset"
   ]
  },
  {
   "cell_type": "code",
   "execution_count": 159,
   "metadata": {},
   "outputs": [
    {
     "data": {
      "text/plain": [
       "0        0\n",
       "1        0\n",
       "2        0\n",
       "3        0\n",
       "4        0\n",
       "        ..\n",
       "62656    0\n",
       "62657    0\n",
       "62658    0\n",
       "62659    0\n",
       "62660    0\n",
       "Length: 62661, dtype: int64"
      ]
     },
     "execution_count": 159,
     "metadata": {},
     "output_type": "execute_result"
    }
   ],
   "source": [
    "data_scikit.isnull().sum()"
   ]
  },
  {
   "cell_type": "code",
   "execution_count": 160,
   "metadata": {},
   "outputs": [
    {
     "data": {
      "text/plain": [
       "0        0\n",
       "1        0\n",
       "2        0\n",
       "3        0\n",
       "4        0\n",
       "        ..\n",
       "62656    0\n",
       "62657    0\n",
       "62658    0\n",
       "62659    0\n",
       "62660    0\n",
       "Length: 62661, dtype: int64"
      ]
     },
     "execution_count": 160,
     "metadata": {},
     "output_type": "execute_result"
    }
   ],
   "source": [
    "data_scikit.isna().sum()"
   ]
  },
  {
   "cell_type": "markdown",
   "metadata": {},
   "source": [
    "### . Show some statistics on the Data"
   ]
  },
  {
   "cell_type": "code",
   "execution_count": null,
   "metadata": {},
   "outputs": [],
   "source": [
    "data_scikit.describe()"
   ]
  },
  {
   "cell_type": "markdown",
   "metadata": {},
   "source": [
    "### Correlation Matrix"
   ]
  },
  {
   "cell_type": "raw",
   "metadata": {},
   "source": [
    "from matplotlib import pyplot as plt\n",
    "s , ax = plt.subplots(figsize =( 15 , 10))\n",
    "cmap = sns.diverging_palette(250 , 10 , as_cmap = True )\n",
    "s = sns.heatmap(data_scikit.corr(), cmap = cmap, square=True,ax=ax, annot = True,cbar_kws={'shrink' : .9 }, annot_kws = {'fontsize':12})"
   ]
  },
  {
   "cell_type": "markdown",
   "metadata": {},
   "source": [
    "## 3- Machine Learning"
   ]
  },
  {
   "cell_type": "markdown",
   "metadata": {},
   "source": [
    "### - My own algorithm Data processing"
   ]
  },
  {
   "cell_type": "markdown",
   "metadata": {},
   "source": [
    "#### Predict one feature"
   ]
  },
  {
   "cell_type": "code",
   "execution_count": 142,
   "metadata": {},
   "outputs": [
    {
     "name": "stdout",
     "output_type": "stream",
     "text": [
      "Score:  -0.0011544623503911833\n"
     ]
    },
    {
     "data": {
      "text/plain": [
       "array([1.365, 1.365, 1.365, 1.365, 1.365, 1.365, 1.365, 1.365, 1.365,\n",
       "       1.365, 1.365, 1.365, 1.365, 1.365, 1.365, 1.365, 1.365, 1.365,\n",
       "       1.365, 1.365, 1.365, 1.365, 1.365, 1.365, 1.365, 1.365, 1.365,\n",
       "       1.365, 1.365, 1.365, 1.365, 1.365, 1.365, 1.365, 1.365, 1.365,\n",
       "       1.365, 1.365, 1.365, 1.365, 1.365, 1.365, 1.365, 1.365, 1.365,\n",
       "       1.365, 1.365, 1.365, 1.365, 1.365, 1.365, 1.365, 1.365, 1.365,\n",
       "       1.365, 1.365, 1.365, 1.365, 1.365, 1.365, 1.365, 1.365, 1.365,\n",
       "       1.365, 1.365, 1.365, 1.365, 1.365, 1.365, 1.365, 1.365, 1.365,\n",
       "       1.365, 1.365, 1.365, 1.365, 1.365, 1.365, 1.365, 1.365, 1.365,\n",
       "       1.365, 1.365, 1.365, 1.365, 1.365, 1.365, 1.365, 1.365, 1.365,\n",
       "       1.365, 1.365, 1.365, 1.365, 1.365, 1.365, 1.365, 1.365, 1.365,\n",
       "       1.365])"
      ]
     },
     "execution_count": 142,
     "metadata": {},
     "output_type": "execute_result"
    }
   ],
   "source": [
    "from sklearn import linear_model# pip install scikit-learn==0.23.2\n",
    "from sklearn.model_selection import train_test_split\n",
    "import numpy as np\n",
    "X = np.array(data_own)[:,np.newaxis,9]\n",
    "y = raw_data.target[:500]\n",
    "X_train, X_test, y_train, y_test = train_test_split(X, y, train_size=0.8, test_size=0.2, random_state=42)\n",
    "\n",
    "model = linear_model.LinearRegression()\n",
    "model.fit(X_train, y_train)\n",
    "accuracy = model.score(X_test,y_test)\n",
    "y_predict = model.predict(X_test)\n",
    "print(\"Score: \",accuracy)\n",
    "y_predict"
   ]
  },
  {
   "cell_type": "code",
   "execution_count": 143,
   "metadata": {},
   "outputs": [],
   "source": [
    "X = data_own\n",
    "y = raw_data.target[:500]\n",
    "X_train, X_test, y_train, y_test = train_test_split(X, y, train_size=0.8, test_size=0.2, random_state=42)"
   ]
  },
  {
   "cell_type": "code",
   "execution_count": 144,
   "metadata": {},
   "outputs": [
    {
     "name": "stdout",
     "output_type": "stream",
     "text": [
      "Score  0.47\n"
     ]
    }
   ],
   "source": [
    "#KNN\n",
    "knn_clf = KNeighborsClassifier(n_neighbors=5)\n",
    "knn_clf.fit(X_train, y_train)\n",
    "predicted = knn_clf.predict(X_test)\n",
    "score = np.sum(predicted == y_test) / len(y_test)\n",
    "print(\"Score \", score)"
   ]
  },
  {
   "cell_type": "code",
   "execution_count": 145,
   "metadata": {},
   "outputs": [
    {
     "name": "stdout",
     "output_type": "stream",
     "text": [
      "Score  0.47\n"
     ]
    }
   ],
   "source": [
    "#SVM\n",
    "from sklearn.svm import SVC\n",
    "svm_clf = SVC(gamma='auto')\n",
    "svm_clf.fit(X_train, y_train)\n",
    "predictions = svm_clf.predict(X_test)\n",
    "score = np.sum(predicted == y_test) / len(y_test)\n",
    "print(\"Score \", score)"
   ]
  },
  {
   "cell_type": "code",
   "execution_count": 146,
   "metadata": {},
   "outputs": [
    {
     "name": "stdout",
     "output_type": "stream",
     "text": [
      "Score  0.56\n"
     ]
    }
   ],
   "source": [
    "#Decision Tree\n",
    "from sklearn.tree import DecisionTreeClassifier\n",
    "dt_clf = DecisionTreeClassifier(max_depth=2)\n",
    "dt_clf.fit(X_train, y_train)\n",
    "predicted = dt_clf.predict(X_test)\n",
    "score = np.sum(predicted == y_test) / len(y_test)\n",
    "print(\"Score \", score)"
   ]
  },
  {
   "cell_type": "markdown",
   "metadata": {},
   "source": [
    "### - Scikit Learn Data processing"
   ]
  },
  {
   "cell_type": "markdown",
   "metadata": {},
   "source": [
    "#### Predict one feature"
   ]
  },
  {
   "cell_type": "code",
   "execution_count": 147,
   "metadata": {},
   "outputs": [
    {
     "name": "stdout",
     "output_type": "stream",
     "text": [
      "Score:  -0.00021384765388843263\n"
     ]
    },
    {
     "data": {
      "text/plain": [
       "array([1.41219922, 1.41219922, 1.41219922, 1.41219922, 1.41219922,\n",
       "       1.41219922, 1.41219922, 1.41219922, 1.41219922, 1.41219922,\n",
       "       1.41219922, 1.41219922, 1.41219922, 1.41219922, 1.41219922,\n",
       "       1.41219922, 1.41219922, 1.41219922, 1.41219922, 1.41219922,\n",
       "       1.41219922, 1.41219922, 1.41219922, 1.41219922, 1.41219922,\n",
       "       1.41219922, 1.41219922, 1.41219922, 1.41219922, 1.41219922,\n",
       "       1.41219922, 1.41219922, 1.41219922, 1.41219922, 1.41219922,\n",
       "       1.41219922, 1.41219922, 1.41219922, 1.41219922, 1.41219922,\n",
       "       1.41219922, 1.41219922, 1.41219922, 1.41219922, 1.41219922,\n",
       "       1.41219922, 1.41219922, 1.41219922, 1.41219922, 1.41219922,\n",
       "       1.41219922, 1.41219922, 1.41219922, 1.41219922, 1.41219922,\n",
       "       1.41219922, 1.41219922, 1.41219922, 1.41219922, 1.41219922,\n",
       "       1.41219922, 1.41219922, 1.41219922, 1.41219922, 1.41219922,\n",
       "       1.41219922, 1.41219922, 1.41219922, 1.41219922, 1.41219922,\n",
       "       1.41219922, 1.41219922, 1.41219922, 1.41219922, 1.41219922,\n",
       "       1.41219922, 1.41219922, 1.41219922, 1.41219922, 1.41219922,\n",
       "       1.41219922, 1.41219922, 1.41219922, 1.41219922, 1.41219922,\n",
       "       1.41219922, 1.41219922, 1.41219922, 1.41219922, 1.41219922,\n",
       "       1.41219922, 1.41219922, 1.41219922, 1.41219922, 1.41219922,\n",
       "       1.41219922, 1.41219922, 1.41219922, 1.41219922, 1.41219922,\n",
       "       1.41219922, 1.41219922, 1.41219922, 1.41219922, 1.41219922,\n",
       "       1.41219922, 1.41219922, 1.41219922, 1.41219922, 1.41219922,\n",
       "       1.41219922, 1.41219922, 1.41219922, 1.41219922, 1.41219922,\n",
       "       1.41219922, 1.41219922, 1.41219922, 1.41219922, 1.41219922,\n",
       "       1.41219922, 1.41219922, 1.41219922, 1.41219922, 1.41219922,\n",
       "       1.41219922, 1.41219922, 1.41219922, 1.41219922, 1.41219922,\n",
       "       1.41219922, 1.41219922, 1.41219922, 1.41219922, 1.41219922,\n",
       "       1.41219922, 1.41219922, 1.41219922, 1.41219922, 1.41219922,\n",
       "       1.41219922, 1.41219922, 1.41219922, 1.41219922, 1.41219922,\n",
       "       1.41219922, 1.41219922, 1.41219922, 1.41219922, 1.41219922,\n",
       "       1.41219922, 1.41219922, 1.41219922, 1.41219922, 1.41219922,\n",
       "       1.41219922, 1.41219922, 1.41219922, 1.41219922, 1.41219922,\n",
       "       1.41219922, 1.41219922, 1.41219922, 1.41219922, 1.41219922,\n",
       "       1.41219922, 1.41219922, 1.41219922, 1.41219922, 1.41219922,\n",
       "       1.41219922, 1.41219922, 1.41219922, 1.41219922, 1.41219922,\n",
       "       1.41219922, 1.41219922, 1.41219922, 1.41219922, 1.41219922,\n",
       "       1.41219922, 1.41219922, 1.41219922, 1.41219922, 1.41219922,\n",
       "       1.41219922, 1.41219922, 1.41219922, 1.41219922, 1.41219922,\n",
       "       1.41219922, 1.41219922, 1.41219922, 1.41219922, 1.41219922,\n",
       "       1.41219922, 1.41219922, 1.41219922, 1.41219922, 1.41219922,\n",
       "       1.41219922, 1.41219922, 1.41219922, 1.41219922, 1.41219922,\n",
       "       1.41219922, 1.41219922, 1.41219922, 1.41219922, 1.41219922,\n",
       "       1.41219922, 1.41219922, 1.41219922, 1.41219922, 1.41219922,\n",
       "       1.41219922, 1.41219922, 1.41219922, 1.41219922, 1.41219922,\n",
       "       1.41219922, 1.41219922, 1.41219922, 1.41219922, 1.41219922,\n",
       "       1.41219922, 1.41219922, 1.41219922, 1.41219922, 1.41219922,\n",
       "       1.41219922, 1.41219922, 1.41219922, 1.41219922, 1.41219922,\n",
       "       1.41219922, 1.41219922, 1.41219922, 1.41219922, 1.41219922,\n",
       "       1.41219922, 1.41219922, 1.41219922, 1.41219922, 1.41219922,\n",
       "       1.41219922, 1.41219922, 1.41219922, 1.41219922, 1.41219922,\n",
       "       1.41219922, 1.41219922, 1.41219922, 1.41219922, 1.41219922,\n",
       "       1.41219922, 1.41219922, 1.41219922, 1.41219922, 1.41219922,\n",
       "       1.41219922, 1.41219922, 1.41219922, 1.41219922, 1.41219922,\n",
       "       1.41219922, 1.41219922, 1.41219922, 1.41219922, 1.41219922,\n",
       "       1.41219922, 1.41219922, 1.41219922, 1.41219922, 1.41219922,\n",
       "       1.41219922, 1.41219922, 1.41219922, 1.41219922, 1.41219922,\n",
       "       1.41219922, 1.41219922, 1.41219922, 1.41219922, 1.41219922,\n",
       "       1.41219922, 1.41219922, 1.41219922, 1.41219922, 1.41219922,\n",
       "       1.41219922, 1.41219922, 1.41219922, 1.41219922, 1.41219922,\n",
       "       1.41219922, 1.41219922, 1.41219922, 1.41219922, 1.41219922,\n",
       "       1.41219922, 1.41219922, 1.41219922, 1.41219922, 1.41219922,\n",
       "       1.41219922, 1.41219922, 1.41219922, 1.41219922, 1.41219922,\n",
       "       1.41219922, 1.41219922, 1.41219922, 1.41219922, 1.41219922,\n",
       "       1.41219922, 1.41219922, 1.41219922, 1.41219922, 1.41219922,\n",
       "       1.41219922, 1.41219922, 1.41219922, 1.41219922, 1.41219922,\n",
       "       1.41219922, 1.41219922, 1.41219922, 1.41219922, 1.41219922,\n",
       "       1.41219922, 1.41219922, 1.41219922, 1.41219922, 1.41219922,\n",
       "       1.41219922, 1.41219922, 1.41219922, 1.41219922, 1.41219922,\n",
       "       1.41219922, 1.41219922, 1.41219922, 1.41219922, 1.41219922,\n",
       "       1.41219922, 1.41219922, 1.41219922, 1.41219922, 1.41219922,\n",
       "       1.41219922, 1.41219922, 1.41219922, 1.41219922, 1.41219922,\n",
       "       1.41219922, 1.41219922, 1.41219922, 1.41219922, 1.41219922,\n",
       "       1.41219922, 1.41219922, 1.41219922, 1.41219922, 1.41219922,\n",
       "       1.41219922, 1.41219922, 1.41219922, 1.41219922, 1.41219922,\n",
       "       1.41219922, 1.41219922, 1.41219922, 1.41219922, 1.41219922,\n",
       "       1.41219922, 1.41219922, 1.41219922, 1.41219922, 1.41219922,\n",
       "       1.41219922, 1.41219922, 1.41219922, 1.41219922, 1.41219922,\n",
       "       1.41219922, 1.41219922, 1.41219922, 1.41219922, 1.41219922,\n",
       "       1.41219922, 1.41219922, 1.41219922, 1.41219922, 1.41219922,\n",
       "       1.41219922, 1.41219922, 1.41219922, 1.41219922, 1.41219922,\n",
       "       1.41219922, 1.41219922, 1.41219922, 1.41219922, 1.41219922,\n",
       "       1.41219922, 1.41219922, 1.41219922, 1.41219922, 1.41219922,\n",
       "       1.41219922, 1.41219922, 1.41219922, 1.41219922, 1.41219922,\n",
       "       1.41219922, 1.41219922, 1.41219922, 1.41219922, 1.41219922,\n",
       "       1.41219922, 1.41219922, 1.41219922, 1.41219922, 1.41219922,\n",
       "       1.41219922, 1.41219922, 1.41219922, 1.41219922, 1.41219922,\n",
       "       1.41219922, 1.41219922, 1.41219922, 1.41219922, 1.41219922,\n",
       "       1.41219922, 1.41219922, 1.41219922, 1.41219922, 1.41219922,\n",
       "       1.41219922, 1.41219922, 1.41219922, 1.41219922, 1.41219922,\n",
       "       1.41219922, 1.41219922, 1.41219922, 1.41219922, 1.41219922,\n",
       "       1.41219922])"
      ]
     },
     "execution_count": 147,
     "metadata": {},
     "output_type": "execute_result"
    }
   ],
   "source": [
    "X = np.array(data_scikit)[:,np.newaxis,9]\n",
    "y = raw_data.target\n",
    "X_train, X_test, y_train, y_test = train_test_split(X, y, train_size=0.8, test_size=0.2, random_state=42)\n",
    "\n",
    "model = linear_model.LinearRegression()\n",
    "model.fit(X_train, y_train)\n",
    "accuracy = model.score(X_test,y_test)\n",
    "y_predict = model.predict(X_test)\n",
    "print(\"Score: \",accuracy)\n",
    "y_predict"
   ]
  },
  {
   "cell_type": "code",
   "execution_count": 149,
   "metadata": {},
   "outputs": [],
   "source": [
    "X = data_scikit\n",
    "y = raw_data.target\n",
    "X_train, X_test, y_train, y_test = train_test_split(X, y, train_size=0.8, test_size=0.2, random_state=42)"
   ]
  },
  {
   "cell_type": "code",
   "execution_count": 150,
   "metadata": {},
   "outputs": [
    {
     "name": "stdout",
     "output_type": "stream",
     "text": [
      "Score  0.7849223946784922\n"
     ]
    }
   ],
   "source": [
    "#KNN\n",
    "knn_clf = KNeighborsClassifier(n_neighbors=5)\n",
    "knn_clf.fit(X_train, y_train)\n",
    "predicted = knn_clf.predict(X_test)\n",
    "score = np.sum(predicted == y_test) / len(y_test)\n",
    "print(\"Score \", score)"
   ]
  },
  {
   "cell_type": "code",
   "execution_count": 151,
   "metadata": {},
   "outputs": [
    {
     "name": "stdout",
     "output_type": "stream",
     "text": [
      "Score  0.7849223946784922\n"
     ]
    }
   ],
   "source": [
    "#SVM\n",
    "from sklearn.svm import SVC\n",
    "svm_clf = SVC(gamma='auto')\n",
    "svm_clf.fit(X_train, y_train)\n",
    "predictions_svm = svm_clf.predict(X_test)\n",
    "score_svm = np.sum(predicted == y_test) / len(y_test)\n",
    "print(\"Score \", score_svm)"
   ]
  },
  {
   "cell_type": "code",
   "execution_count": 152,
   "metadata": {},
   "outputs": [
    {
     "name": "stdout",
     "output_type": "stream",
     "text": [
      "Score  0.5764966740576497\n"
     ]
    }
   ],
   "source": [
    "#Decision Tree\n",
    "from sklearn.tree import DecisionTreeClassifier\n",
    "dt_clf = DecisionTreeClassifier(max_depth=2)\n",
    "dt_clf.fit(X_train, y_train)\n",
    "predicted = dt_clf.predict(X_test)\n",
    "score = np.sum(predicted == y_test) / len(y_test)\n",
    "print(\"Score \", score)"
   ]
  },
  {
   "cell_type": "markdown",
   "metadata": {},
   "source": [
    "## 4- Visualization"
   ]
  },
  {
   "cell_type": "markdown",
   "metadata": {},
   "source": [
    "#### Confusion Matrix"
   ]
  },
  {
   "cell_type": "code",
   "execution_count": 156,
   "metadata": {},
   "outputs": [],
   "source": [
    "#Build Model\n",
    "predict_train_svm = svm_clf.predict(X_train)"
   ]
  },
  {
   "cell_type": "code",
   "execution_count": 157,
   "metadata": {
    "scrolled": true
   },
   "outputs": [],
   "source": [
    "def plot_confusion_matrix(cm, classes=None, title=None):\n",
    "    if classes is not None:\n",
    "        sns.heatmap(cm, xticklabels=classes, yticklabels=classes, vmin=0, vmax=1, annot=True, annot_kws={'size':50})\n",
    "    else:\n",
    "        sns.heatmap(cm, vmin=0, vmax=1)\n",
    "    plt.title(title)\n",
    "    plt.xlabel(\"Predicted Label\")\n",
    "    plt.ylabel(\"True Label\")"
   ]
  },
  {
   "cell_type": "code",
   "execution_count": 158,
   "metadata": {},
   "outputs": [
    {
     "data": {
      "image/png": "[encoded data removed]",
      "text/plain": [
       "<Figure size 432x288 with 2 Axes>"
      ]
     },
     "metadata": {
      "needs_background": "light"
     },
     "output_type": "display_data"
    }
   ],
   "source": [
    "from sklearn.metrics import accuracy_score, confusion_matrix, classification_report, r2_score\n",
    "cm_svm = confusion_matrix(y_train, predict_train_svm)\n",
    "cm_svm_norm = cm_svm/cm_svm.sum(axis=1)[:, np.newaxis]\n",
    "classes = raw_data.target_names\n",
    "plot_confusion_matrix(cm_svm_norm, classes, title=\"Confusion Matrix for Model SVM\")"
   ]
  },
  {
   "cell_type": "markdown",
   "metadata": {},
   "source": [
    "## 5- Theorical details"
   ]
  },
  {
   "cell_type": "code",
   "execution_count": null,
   "metadata": {},
   "outputs": [],
   "source": [
    "Confère le rapport"
   ]
  },
  {
   "cell_type": "code",
   "execution_count": null,
   "metadata": {},
   "outputs": [],
   "source": []
  },
  {
   "cell_type": "code",
   "execution_count": null,
   "metadata": {},
   "outputs": [],
   "source": []
  },
  {
   "cell_type": "code",
   "execution_count": null,
   "metadata": {},
   "outputs": [],
   "source": []
  },
  {
   "cell_type": "code",
   "execution_count": null,
   "metadata": {},
   "outputs": [],
   "source": []
  },
  {
   "cell_type": "code",
   "execution_count": null,
   "metadata": {},
   "outputs": [],
   "source": []
  },
  {
   "cell_type": "code",
   "execution_count": null,
   "metadata": {},
   "outputs": [],
   "source": []
  },
  {
   "cell_type": "code",
   "execution_count": null,
   "metadata": {},
   "outputs": [],
   "source": []
  }
 ],
 "metadata": {
  "kernelspec": {
   "display_name": "pythonEnv",
   "language": "python",
   "name": "pythonenv"
  },
  "language_info": {
   "codemirror_mode": {
    "name": "ipython",
    "version": 3
   },
   "file_extension": ".py",
   "mimetype": "text/x-python",
   "name": "python",
   "nbconvert_exporter": "python",
   "pygments_lexer": "ipython3",
   "version": "3.7.11"
  }
 },
 "nbformat": 4,
 "nbformat_minor": 4
}
