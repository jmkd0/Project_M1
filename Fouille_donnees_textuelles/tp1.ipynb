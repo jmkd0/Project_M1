{
 "cells": [
  {
   "cell_type": "markdown",
   "metadata": {},
   "source": [
    "# TP1: Iris Dataset"
   ]
  },
  {
   "cell_type": "markdown",
   "metadata": {},
   "source": [
    "# A- Importation des librairies"
   ]
  },
  {
   "cell_type": "code",
   "execution_count": 109,
   "metadata": {},
   "outputs": [],
   "source": [
    "from sklearn import *\n",
    "import numpy as np"
   ]
  },
  {
   "cell_type": "markdown",
   "metadata": {},
   "source": [
    "# B- Manipulation d'un jeu de données"
   ]
  },
  {
   "cell_type": "code",
   "execution_count": 110,
   "metadata": {},
   "outputs": [],
   "source": [
    "iris = datasets.load_iris()"
   ]
  },
  {
   "cell_type": "code",
   "execution_count": 111,
   "metadata": {},
   "outputs": [
    {
     "name": "stdout",
     "output_type": "stream",
     "text": [
      "[[5.1 3.5 1.4 0.2]\n",
      " [4.9 3.  1.4 0.2]\n",
      " [4.7 3.2 1.3 0.2]\n",
      " [4.6 3.1 1.5 0.2]\n",
      " [5.  3.6 1.4 0.2]\n",
      " [5.4 3.9 1.7 0.4]\n",
      " [4.6 3.4 1.4 0.3]\n",
      " [5.  3.4 1.5 0.2]\n",
      " [4.4 2.9 1.4 0.2]\n",
      " [4.9 3.1 1.5 0.1]\n",
      " [5.4 3.7 1.5 0.2]\n",
      " [4.8 3.4 1.6 0.2]\n",
      " [4.8 3.  1.4 0.1]\n",
      " [4.3 3.  1.1 0.1]\n",
      " [5.8 4.  1.2 0.2]\n",
      " [5.7 4.4 1.5 0.4]\n",
      " [5.4 3.9 1.3 0.4]\n",
      " [5.1 3.5 1.4 0.3]\n",
      " [5.7 3.8 1.7 0.3]\n",
      " [5.1 3.8 1.5 0.3]\n",
      " [5.4 3.4 1.7 0.2]\n",
      " [5.1 3.7 1.5 0.4]\n",
      " [4.6 3.6 1.  0.2]\n",
      " [5.1 3.3 1.7 0.5]\n",
      " [4.8 3.4 1.9 0.2]\n",
      " [5.  3.  1.6 0.2]\n",
      " [5.  3.4 1.6 0.4]\n",
      " [5.2 3.5 1.5 0.2]\n",
      " [5.2 3.4 1.4 0.2]\n",
      " [4.7 3.2 1.6 0.2]\n",
      " [4.8 3.1 1.6 0.2]\n",
      " [5.4 3.4 1.5 0.4]\n",
      " [5.2 4.1 1.5 0.1]\n",
      " [5.5 4.2 1.4 0.2]\n",
      " [4.9 3.1 1.5 0.2]\n",
      " [5.  3.2 1.2 0.2]\n",
      " [5.5 3.5 1.3 0.2]\n",
      " [4.9 3.6 1.4 0.1]\n",
      " [4.4 3.  1.3 0.2]\n",
      " [5.1 3.4 1.5 0.2]\n",
      " [5.  3.5 1.3 0.3]\n",
      " [4.5 2.3 1.3 0.3]\n",
      " [4.4 3.2 1.3 0.2]\n",
      " [5.  3.5 1.6 0.6]\n",
      " [5.1 3.8 1.9 0.4]\n",
      " [4.8 3.  1.4 0.3]\n",
      " [5.1 3.8 1.6 0.2]\n",
      " [4.6 3.2 1.4 0.2]\n",
      " [5.3 3.7 1.5 0.2]\n",
      " [5.  3.3 1.4 0.2]\n",
      " [7.  3.2 4.7 1.4]\n",
      " [6.4 3.2 4.5 1.5]\n",
      " [6.9 3.1 4.9 1.5]\n",
      " [5.5 2.3 4.  1.3]\n",
      " [6.5 2.8 4.6 1.5]\n",
      " [5.7 2.8 4.5 1.3]\n",
      " [6.3 3.3 4.7 1.6]\n",
      " [4.9 2.4 3.3 1. ]\n",
      " [6.6 2.9 4.6 1.3]\n",
      " [5.2 2.7 3.9 1.4]\n",
      " [5.  2.  3.5 1. ]\n",
      " [5.9 3.  4.2 1.5]\n",
      " [6.  2.2 4.  1. ]\n",
      " [6.1 2.9 4.7 1.4]\n",
      " [5.6 2.9 3.6 1.3]\n",
      " [6.7 3.1 4.4 1.4]\n",
      " [5.6 3.  4.5 1.5]\n",
      " [5.8 2.7 4.1 1. ]\n",
      " [6.2 2.2 4.5 1.5]\n",
      " [5.6 2.5 3.9 1.1]\n",
      " [5.9 3.2 4.8 1.8]\n",
      " [6.1 2.8 4.  1.3]\n",
      " [6.3 2.5 4.9 1.5]\n",
      " [6.1 2.8 4.7 1.2]\n",
      " [6.4 2.9 4.3 1.3]\n",
      " [6.6 3.  4.4 1.4]\n",
      " [6.8 2.8 4.8 1.4]\n",
      " [6.7 3.  5.  1.7]\n",
      " [6.  2.9 4.5 1.5]\n",
      " [5.7 2.6 3.5 1. ]\n",
      " [5.5 2.4 3.8 1.1]\n",
      " [5.5 2.4 3.7 1. ]\n",
      " [5.8 2.7 3.9 1.2]\n",
      " [6.  2.7 5.1 1.6]\n",
      " [5.4 3.  4.5 1.5]\n",
      " [6.  3.4 4.5 1.6]\n",
      " [6.7 3.1 4.7 1.5]\n",
      " [6.3 2.3 4.4 1.3]\n",
      " [5.6 3.  4.1 1.3]\n",
      " [5.5 2.5 4.  1.3]\n",
      " [5.5 2.6 4.4 1.2]\n",
      " [6.1 3.  4.6 1.4]\n",
      " [5.8 2.6 4.  1.2]\n",
      " [5.  2.3 3.3 1. ]\n",
      " [5.6 2.7 4.2 1.3]\n",
      " [5.7 3.  4.2 1.2]\n",
      " [5.7 2.9 4.2 1.3]\n",
      " [6.2 2.9 4.3 1.3]\n",
      " [5.1 2.5 3.  1.1]\n",
      " [5.7 2.8 4.1 1.3]\n",
      " [6.3 3.3 6.  2.5]\n",
      " [5.8 2.7 5.1 1.9]\n",
      " [7.1 3.  5.9 2.1]\n",
      " [6.3 2.9 5.6 1.8]\n",
      " [6.5 3.  5.8 2.2]\n",
      " [7.6 3.  6.6 2.1]\n",
      " [4.9 2.5 4.5 1.7]\n",
      " [7.3 2.9 6.3 1.8]\n",
      " [6.7 2.5 5.8 1.8]\n",
      " [7.2 3.6 6.1 2.5]\n",
      " [6.5 3.2 5.1 2. ]\n",
      " [6.4 2.7 5.3 1.9]\n",
      " [6.8 3.  5.5 2.1]\n",
      " [5.7 2.5 5.  2. ]\n",
      " [5.8 2.8 5.1 2.4]\n",
      " [6.4 3.2 5.3 2.3]\n",
      " [6.5 3.  5.5 1.8]\n",
      " [7.7 3.8 6.7 2.2]\n",
      " [7.7 2.6 6.9 2.3]\n",
      " [6.  2.2 5.  1.5]\n",
      " [6.9 3.2 5.7 2.3]\n",
      " [5.6 2.8 4.9 2. ]\n",
      " [7.7 2.8 6.7 2. ]\n",
      " [6.3 2.7 4.9 1.8]\n",
      " [6.7 3.3 5.7 2.1]\n",
      " [7.2 3.2 6.  1.8]\n",
      " [6.2 2.8 4.8 1.8]\n",
      " [6.1 3.  4.9 1.8]\n",
      " [6.4 2.8 5.6 2.1]\n",
      " [7.2 3.  5.8 1.6]\n",
      " [7.4 2.8 6.1 1.9]\n",
      " [7.9 3.8 6.4 2. ]\n",
      " [6.4 2.8 5.6 2.2]\n",
      " [6.3 2.8 5.1 1.5]\n",
      " [6.1 2.6 5.6 1.4]\n",
      " [7.7 3.  6.1 2.3]\n",
      " [6.3 3.4 5.6 2.4]\n",
      " [6.4 3.1 5.5 1.8]\n",
      " [6.  3.  4.8 1.8]\n",
      " [6.9 3.1 5.4 2.1]\n",
      " [6.7 3.1 5.6 2.4]\n",
      " [6.9 3.1 5.1 2.3]\n",
      " [5.8 2.7 5.1 1.9]\n",
      " [6.8 3.2 5.9 2.3]\n",
      " [6.7 3.3 5.7 2.5]\n",
      " [6.7 3.  5.2 2.3]\n",
      " [6.3 2.5 5.  1.9]\n",
      " [6.5 3.  5.2 2. ]\n",
      " [6.2 3.4 5.4 2.3]\n",
      " [5.9 3.  5.1 1.8]]\n",
      "['sepal length (cm)', 'sepal width (cm)', 'petal length (cm)', 'petal width (cm)']\n",
      "['setosa' 'versicolor' 'virginica']\n"
     ]
    }
   ],
   "source": [
    "print(iris.data)\n",
    "print(iris.feature_names)\n",
    "print(iris.target_names)"
   ]
  },
  {
   "cell_type": "markdown",
   "metadata": {},
   "source": [
    "3-Display each data with his class"
   ]
  },
  {
   "cell_type": "code",
   "execution_count": 112,
   "metadata": {},
   "outputs": [
    {
     "name": "stdout",
     "output_type": "stream",
     "text": [
      "[5.1 3.5 1.4 0.2]   setosa\n",
      "[4.9 3.  1.4 0.2]   setosa\n",
      "[4.7 3.2 1.3 0.2]   setosa\n",
      "[4.6 3.1 1.5 0.2]   setosa\n",
      "[5.  3.6 1.4 0.2]   setosa\n",
      "[5.4 3.9 1.7 0.4]   setosa\n",
      "[4.6 3.4 1.4 0.3]   setosa\n",
      "[5.  3.4 1.5 0.2]   setosa\n",
      "[4.4 2.9 1.4 0.2]   setosa\n",
      "[4.9 3.1 1.5 0.1]   setosa\n",
      "[5.4 3.7 1.5 0.2]   setosa\n",
      "[4.8 3.4 1.6 0.2]   setosa\n",
      "[4.8 3.  1.4 0.1]   setosa\n",
      "[4.3 3.  1.1 0.1]   setosa\n",
      "[5.8 4.  1.2 0.2]   setosa\n",
      "[5.7 4.4 1.5 0.4]   setosa\n",
      "[5.4 3.9 1.3 0.4]   setosa\n",
      "[5.1 3.5 1.4 0.3]   setosa\n",
      "[5.7 3.8 1.7 0.3]   setosa\n",
      "[5.1 3.8 1.5 0.3]   setosa\n",
      "[5.4 3.4 1.7 0.2]   setosa\n",
      "[5.1 3.7 1.5 0.4]   setosa\n",
      "[4.6 3.6 1.  0.2]   setosa\n",
      "[5.1 3.3 1.7 0.5]   setosa\n",
      "[4.8 3.4 1.9 0.2]   setosa\n",
      "[5.  3.  1.6 0.2]   setosa\n",
      "[5.  3.4 1.6 0.4]   setosa\n",
      "[5.2 3.5 1.5 0.2]   setosa\n",
      "[5.2 3.4 1.4 0.2]   setosa\n",
      "[4.7 3.2 1.6 0.2]   setosa\n",
      "[4.8 3.1 1.6 0.2]   setosa\n",
      "[5.4 3.4 1.5 0.4]   setosa\n",
      "[5.2 4.1 1.5 0.1]   setosa\n",
      "[5.5 4.2 1.4 0.2]   setosa\n",
      "[4.9 3.1 1.5 0.2]   setosa\n",
      "[5.  3.2 1.2 0.2]   setosa\n",
      "[5.5 3.5 1.3 0.2]   setosa\n",
      "[4.9 3.6 1.4 0.1]   setosa\n",
      "[4.4 3.  1.3 0.2]   setosa\n",
      "[5.1 3.4 1.5 0.2]   setosa\n",
      "[5.  3.5 1.3 0.3]   setosa\n",
      "[4.5 2.3 1.3 0.3]   setosa\n",
      "[4.4 3.2 1.3 0.2]   setosa\n",
      "[5.  3.5 1.6 0.6]   setosa\n",
      "[5.1 3.8 1.9 0.4]   setosa\n",
      "[4.8 3.  1.4 0.3]   setosa\n",
      "[5.1 3.8 1.6 0.2]   setosa\n",
      "[4.6 3.2 1.4 0.2]   setosa\n",
      "[5.3 3.7 1.5 0.2]   setosa\n",
      "[5.  3.3 1.4 0.2]   setosa\n",
      "[7.  3.2 4.7 1.4]   versicolor\n",
      "[6.4 3.2 4.5 1.5]   versicolor\n",
      "[6.9 3.1 4.9 1.5]   versicolor\n",
      "[5.5 2.3 4.  1.3]   versicolor\n",
      "[6.5 2.8 4.6 1.5]   versicolor\n",
      "[5.7 2.8 4.5 1.3]   versicolor\n",
      "[6.3 3.3 4.7 1.6]   versicolor\n",
      "[4.9 2.4 3.3 1. ]   versicolor\n",
      "[6.6 2.9 4.6 1.3]   versicolor\n",
      "[5.2 2.7 3.9 1.4]   versicolor\n",
      "[5.  2.  3.5 1. ]   versicolor\n",
      "[5.9 3.  4.2 1.5]   versicolor\n",
      "[6.  2.2 4.  1. ]   versicolor\n",
      "[6.1 2.9 4.7 1.4]   versicolor\n",
      "[5.6 2.9 3.6 1.3]   versicolor\n",
      "[6.7 3.1 4.4 1.4]   versicolor\n",
      "[5.6 3.  4.5 1.5]   versicolor\n",
      "[5.8 2.7 4.1 1. ]   versicolor\n",
      "[6.2 2.2 4.5 1.5]   versicolor\n",
      "[5.6 2.5 3.9 1.1]   versicolor\n",
      "[5.9 3.2 4.8 1.8]   versicolor\n",
      "[6.1 2.8 4.  1.3]   versicolor\n",
      "[6.3 2.5 4.9 1.5]   versicolor\n",
      "[6.1 2.8 4.7 1.2]   versicolor\n",
      "[6.4 2.9 4.3 1.3]   versicolor\n",
      "[6.6 3.  4.4 1.4]   versicolor\n",
      "[6.8 2.8 4.8 1.4]   versicolor\n",
      "[6.7 3.  5.  1.7]   versicolor\n",
      "[6.  2.9 4.5 1.5]   versicolor\n",
      "[5.7 2.6 3.5 1. ]   versicolor\n",
      "[5.5 2.4 3.8 1.1]   versicolor\n",
      "[5.5 2.4 3.7 1. ]   versicolor\n",
      "[5.8 2.7 3.9 1.2]   versicolor\n",
      "[6.  2.7 5.1 1.6]   versicolor\n",
      "[5.4 3.  4.5 1.5]   versicolor\n",
      "[6.  3.4 4.5 1.6]   versicolor\n",
      "[6.7 3.1 4.7 1.5]   versicolor\n",
      "[6.3 2.3 4.4 1.3]   versicolor\n",
      "[5.6 3.  4.1 1.3]   versicolor\n",
      "[5.5 2.5 4.  1.3]   versicolor\n",
      "[5.5 2.6 4.4 1.2]   versicolor\n",
      "[6.1 3.  4.6 1.4]   versicolor\n",
      "[5.8 2.6 4.  1.2]   versicolor\n",
      "[5.  2.3 3.3 1. ]   versicolor\n",
      "[5.6 2.7 4.2 1.3]   versicolor\n",
      "[5.7 3.  4.2 1.2]   versicolor\n",
      "[5.7 2.9 4.2 1.3]   versicolor\n",
      "[6.2 2.9 4.3 1.3]   versicolor\n",
      "[5.1 2.5 3.  1.1]   versicolor\n",
      "[5.7 2.8 4.1 1.3]   versicolor\n",
      "[6.3 3.3 6.  2.5]   virginica\n",
      "[5.8 2.7 5.1 1.9]   virginica\n",
      "[7.1 3.  5.9 2.1]   virginica\n",
      "[6.3 2.9 5.6 1.8]   virginica\n",
      "[6.5 3.  5.8 2.2]   virginica\n",
      "[7.6 3.  6.6 2.1]   virginica\n",
      "[4.9 2.5 4.5 1.7]   virginica\n",
      "[7.3 2.9 6.3 1.8]   virginica\n",
      "[6.7 2.5 5.8 1.8]   virginica\n",
      "[7.2 3.6 6.1 2.5]   virginica\n",
      "[6.5 3.2 5.1 2. ]   virginica\n",
      "[6.4 2.7 5.3 1.9]   virginica\n",
      "[6.8 3.  5.5 2.1]   virginica\n",
      "[5.7 2.5 5.  2. ]   virginica\n",
      "[5.8 2.8 5.1 2.4]   virginica\n",
      "[6.4 3.2 5.3 2.3]   virginica\n",
      "[6.5 3.  5.5 1.8]   virginica\n",
      "[7.7 3.8 6.7 2.2]   virginica\n",
      "[7.7 2.6 6.9 2.3]   virginica\n",
      "[6.  2.2 5.  1.5]   virginica\n",
      "[6.9 3.2 5.7 2.3]   virginica\n",
      "[5.6 2.8 4.9 2. ]   virginica\n",
      "[7.7 2.8 6.7 2. ]   virginica\n",
      "[6.3 2.7 4.9 1.8]   virginica\n",
      "[6.7 3.3 5.7 2.1]   virginica\n",
      "[7.2 3.2 6.  1.8]   virginica\n",
      "[6.2 2.8 4.8 1.8]   virginica\n",
      "[6.1 3.  4.9 1.8]   virginica\n",
      "[6.4 2.8 5.6 2.1]   virginica\n",
      "[7.2 3.  5.8 1.6]   virginica\n",
      "[7.4 2.8 6.1 1.9]   virginica\n",
      "[7.9 3.8 6.4 2. ]   virginica\n",
      "[6.4 2.8 5.6 2.2]   virginica\n",
      "[6.3 2.8 5.1 1.5]   virginica\n",
      "[6.1 2.6 5.6 1.4]   virginica\n",
      "[7.7 3.  6.1 2.3]   virginica\n",
      "[6.3 3.4 5.6 2.4]   virginica\n",
      "[6.4 3.1 5.5 1.8]   virginica\n",
      "[6.  3.  4.8 1.8]   virginica\n",
      "[6.9 3.1 5.4 2.1]   virginica\n",
      "[6.7 3.1 5.6 2.4]   virginica\n",
      "[6.9 3.1 5.1 2.3]   virginica\n",
      "[5.8 2.7 5.1 1.9]   virginica\n",
      "[6.8 3.2 5.9 2.3]   virginica\n",
      "[6.7 3.3 5.7 2.5]   virginica\n",
      "[6.7 3.  5.2 2.3]   virginica\n",
      "[6.3 2.5 5.  1.9]   virginica\n",
      "[6.5 3.  5.2 2. ]   virginica\n",
      "[6.2 3.4 5.4 2.3]   virginica\n",
      "[5.9 3.  5.1 1.8]   virginica\n"
     ]
    }
   ],
   "source": [
    "for data, name in zip(iris.data, iris.target):\n",
    "    print(data, \" \", iris.target_names[name])"
   ]
  },
  {
   "cell_type": "markdown",
   "metadata": {},
   "source": [
    "4.1-Mean according to column"
   ]
  },
  {
   "cell_type": "code",
   "execution_count": 113,
   "metadata": {},
   "outputs": [
    {
     "data": {
      "text/plain": [
       "array([5.84333333, 3.05733333, 3.758     , 1.19933333])"
      ]
     },
     "execution_count": 113,
     "metadata": {},
     "output_type": "execute_result"
    }
   ],
   "source": [
    "iris.data.mean(0)"
   ]
  },
  {
   "cell_type": "markdown",
   "metadata": {},
   "source": [
    "4.2-Ecart-type according to column"
   ]
  },
  {
   "cell_type": "code",
   "execution_count": 114,
   "metadata": {},
   "outputs": [
    {
     "data": {
      "text/plain": [
       "array([0.82530129, 0.43441097, 1.75940407, 0.75969263])"
      ]
     },
     "execution_count": 114,
     "metadata": {},
     "output_type": "execute_result"
    }
   ],
   "source": [
    "np.std(iris.data, axis=0)"
   ]
  },
  {
   "cell_type": "markdown",
   "metadata": {},
   "source": [
    "4.3-Min according to column"
   ]
  },
  {
   "cell_type": "code",
   "execution_count": 115,
   "metadata": {},
   "outputs": [
    {
     "data": {
      "text/plain": [
       "array([4.3, 2. , 1. , 0.1])"
      ]
     },
     "execution_count": 115,
     "metadata": {},
     "output_type": "execute_result"
    }
   ],
   "source": [
    "np.min(iris.data, axis=0)"
   ]
  },
  {
   "cell_type": "markdown",
   "metadata": {},
   "source": [
    "4.4-Max according to column"
   ]
  },
  {
   "cell_type": "code",
   "execution_count": 116,
   "metadata": {},
   "outputs": [
    {
     "data": {
      "text/plain": [
       "array([7.9, 4.4, 6.9, 2.5])"
      ]
     },
     "execution_count": 116,
     "metadata": {},
     "output_type": "execute_result"
    }
   ],
   "source": [
    "np.max(iris.data, axis=0)"
   ]
  },
  {
   "cell_type": "markdown",
   "metadata": {},
   "source": [
    "5- Shape and size"
   ]
  },
  {
   "cell_type": "code",
   "execution_count": 117,
   "metadata": {},
   "outputs": [
    {
     "name": "stdout",
     "output_type": "stream",
     "text": [
      "Iris data shape: (150, 4)\n",
      "Number of class: 3\n"
     ]
    }
   ],
   "source": [
    "print(\"Iris data shape:\", np.shape(iris.data))\n",
    "print(\"Number of class:\", np.size(iris.target_names))"
   ]
  },
  {
   "cell_type": "markdown",
   "metadata": {},
   "source": [
    "# C- Telechargement et importation de données"
   ]
  },
  {
   "cell_type": "markdown",
   "metadata": {},
   "source": [
    "1-Importation de données MNIST"
   ]
  },
  {
   "cell_type": "code",
   "execution_count": 122,
   "metadata": {},
   "outputs": [
    {
     "ename": "ImportError",
     "evalue": "cannot import name 'fetch_mldata' from 'sklearn.datasets' (/home/komlan/anaconda3/envs/anaconda/lib/python3.7/site-packages/sklearn/datasets/__init__.py)",
     "output_type": "error",
     "traceback": [
      "\u001b[0;31m---------------------------------------------------------------------------\u001b[0m",
      "\u001b[0;31mImportError\u001b[0m                               Traceback (most recent call last)",
      "\u001b[0;32m<ipython-input-122-138574542ea2>\u001b[0m in \u001b[0;36m<module>\u001b[0;34m\u001b[0m\n\u001b[0;32m----> 1\u001b[0;31m \u001b[0;32mfrom\u001b[0m \u001b[0msklearn\u001b[0m\u001b[0;34m.\u001b[0m\u001b[0mdatasets\u001b[0m \u001b[0;32mimport\u001b[0m \u001b[0mfetch_mldata\u001b[0m\u001b[0;34m\u001b[0m\u001b[0;34m\u001b[0m\u001b[0m\n\u001b[0m\u001b[1;32m      2\u001b[0m \u001b[0mmnist\u001b[0m \u001b[0;34m=\u001b[0m \u001b[0mdatasets\u001b[0m\u001b[0;34m.\u001b[0m\u001b[0mmldata\u001b[0m\u001b[0;34m.\u001b[0m\u001b[0mfetch_mldata\u001b[0m\u001b[0;34m(\u001b[0m\u001b[0;34m'MNIST original'\u001b[0m\u001b[0;34m)\u001b[0m\u001b[0;34m\u001b[0m\u001b[0;34m\u001b[0m\u001b[0m\n\u001b[1;32m      3\u001b[0m \u001b[0;34m\u001b[0m\u001b[0m\n\u001b[1;32m      4\u001b[0m \u001b[0;31m#data = datasets.mldata.fetch_mldata('MNIST original')\u001b[0m\u001b[0;34m\u001b[0m\u001b[0;34m\u001b[0m\u001b[0;34m\u001b[0m\u001b[0m\n\u001b[1;32m      5\u001b[0m \u001b[0;31m#data\u001b[0m\u001b[0;34m\u001b[0m\u001b[0;34m\u001b[0m\u001b[0;34m\u001b[0m\u001b[0m\n",
      "\u001b[0;31mImportError\u001b[0m: cannot import name 'fetch_mldata' from 'sklearn.datasets' (/home/komlan/anaconda3/envs/anaconda/lib/python3.7/site-packages/sklearn/datasets/__init__.py)"
     ]
    }
   ],
   "source": [
    "from sklearn.datasets import fetch_mldata\n",
    "mnist = datasets.mldata.fetch_mldata('MNIST original')\n",
    "\n",
    "#data = datasets.mldata.fetch_mldata('MNIST original')\n",
    "#data"
   ]
  },
  {
   "cell_type": "code",
   "execution_count": null,
   "metadata": {},
   "outputs": [],
   "source": []
  }
 ],
 "metadata": {
  "kernelspec": {
   "display_name": "Python [conda env:anaconda]",
   "language": "python",
   "name": "conda-env-anaconda-py"
  },
  "language_info": {
   "codemirror_mode": {
    "name": "ipython",
    "version": 3
   },
   "file_extension": ".py",
   "mimetype": "text/x-python",
   "name": "python",
   "nbconvert_exporter": "python",
   "pygments_lexer": "ipython3",
   "version": "3.7.9"
  }
 },
 "nbformat": 4,
 "nbformat_minor": 4
}
