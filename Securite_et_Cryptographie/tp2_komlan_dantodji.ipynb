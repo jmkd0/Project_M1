{
 "cells": [
  {
   "cell_type": "markdown",
   "metadata": {},
   "source": [
    "# Chiffrement de Vigénere"
   ]
  },
  {
   "cell_type": "markdown",
   "metadata": {},
   "source": [
    "# Exercice 3"
   ]
  },
  {
   "cell_type": "markdown",
   "metadata": {},
   "source": [
    "1) Chiffrement du texte:"
   ]
  },
  {
   "cell_type": "markdown",
   "metadata": {},
   "source": [
    "\n",
    "\"chiffrement de vigenere amelioration du chiffre de cesar\"\n",
    "\n",
    "\"DVVOTLVNSAC RY MJURWSLV BARUWIIBHVXB XL DVVOTLV ES PNGUI\""
   ]
  },
  {
   "cell_type": "markdown",
   "metadata": {},
   "source": [
    "2) Dechiffrement de texte"
   ]
  },
  {
   "cell_type": "markdown",
   "metadata": {},
   "source": [
    "GMPYO EAUBO DBTXQ LKYAL WINES JKUTG GIVXH VSYRC BQUXH RPNVF JXTXV LTVRS\n",
    "KIKLW SSYNC IVGMS FUPUM VQVNB IHGKO PJGGW KZOXI IXQKH IHCZI IMXBS ZSFKU\n",
    "MIPWA VYYKH VQVEO HBCVZ ZCTTW KUIAGGMFXG YHVOZ GQQGG VUMOZ ZVEX"
   ]
  },
  {
   "cell_type": "markdown",
   "metadata": {},
   "source": [
    "LENFA NTAVA ITREC UDEUX BALLE SDANS LATET ELELO GISET AITPR OPREH UMBLE\n",
    "PAISI BLEHO NNETE ONVOY AITUN RAMEA UBENI TSURU NPORT RAITU NEVIE ILLEG\n",
    "RANDM EREET AITLA QUIPL EURAI TNOUSLEDES HABIL LIONS ENSIL ENCE"
   ]
  },
  {
   "cell_type": "markdown",
   "metadata": {},
   "source": [
    "# Exercice 4"
   ]
  },
  {
   "cell_type": "markdown",
   "metadata": {},
   "source": [
    "1)"
   ]
  },
  {
   "cell_type": "code",
   "execution_count": 2,
   "metadata": {},
   "outputs": [],
   "source": [
    "def chiffre_vigenere(key, alpha_clair):\n",
    "    alph_letters = [chr(i+65) for i in range(26)]\n",
    "    key = key.upper()\n",
    "    alpha_clair = alpha_clair.upper()\n",
    "    alpha_chiff = []\n",
    "    k=0\n",
    "    for i in range(len(alpha_clair)):\n",
    "        r = i-k\n",
    "        if alpha_clair[i] in alph_letters:\n",
    "            key_clair = key[r%len(key)]\n",
    "            position = alph_letters.index(alpha_clair[i]) + alph_letters.index(key_clair)\n",
    "            alpha_chiff.append(alph_letters[position%26])\n",
    "        else:\n",
    "            alpha_chiff.append(alpha_clair[i])\n",
    "            k = k+1\n",
    "    return \"\".join(alpha_chiff)\n",
    "    "
   ]
  },
  {
   "cell_type": "markdown",
   "metadata": {},
   "source": [
    "Tests"
   ]
  },
  {
   "cell_type": "code",
   "execution_count": 4,
   "metadata": {},
   "outputs": [
    {
     "name": "stdout",
     "output_type": "stream",
     "text": [
      "ZFGQRR JWD MZ GECGXJOXECLZI \n"
     ]
    }
   ],
   "source": [
    "texte_clair = \"EXAMEN SSI ET CRYPTOGRAPHIE \"\n",
    "key = \"VIGENERE\"\n",
    "#Appels\n",
    "texte_chiff = chiffre_vigenere(key, texte_clair)\n",
    "\n",
    "#print(texte_clair.upper())\n",
    "print(texte_chiff)"
   ]
  },
  {
   "cell_type": "markdown",
   "metadata": {},
   "source": [
    "2)"
   ]
  },
  {
   "cell_type": "code",
   "execution_count": 116,
   "metadata": {},
   "outputs": [],
   "source": [
    "def dechiffre_vigenere(key, alpha_chiff):\n",
    "    alph_letters = [chr(i+65) for i in range(26)]\n",
    "    key = key.upper()\n",
    "    alpha_chiff = alpha_chiff.upper()\n",
    "    alpha_clair = []\n",
    "    k=0\n",
    "    for i in range(len(alpha_chiff)):\n",
    "        r = i-k\n",
    "        if alpha_chiff[i] in alph_letters:\n",
    "            key_clair = key[r%len(key)]\n",
    "            position = alph_letters.index(alpha_chiff[i]) - alph_letters.index(key_clair)\n",
    "            alpha_clair.append(alph_letters[position%26])\n",
    "        else:\n",
    "            alpha_clair.append(alpha_chiff[i])\n",
    "            k = k+1\n",
    "    return \"\".join(alpha_clair)"
   ]
  },
  {
   "cell_type": "markdown",
   "metadata": {},
   "source": [
    "Tests"
   ]
  },
  {
   "cell_type": "code",
   "execution_count": 117,
   "metadata": {},
   "outputs": [
    {
     "name": "stdout",
     "output_type": "stream",
     "text": [
      "DVVOTLVNSAC RY MJURWSLV BARUWIIBHVXB XL DVVOTLV ES PNGUI\n",
      "CHIFFREMENT DE VIGENERE AMELIORATION DU CHIFFRE DE CESAR\n"
     ]
    }
   ],
   "source": [
    "texte_chiff = \"DVVOTLVNSAC RY MJURWSLV BARUWIIBHVXB XL DVVOTLV ES PNGUI\"\n",
    "key = \"Bonjour\"\n",
    "#Appels\n",
    "texte_clair = dechiffre_vigenere(key, texte_chiff)\n",
    "\n",
    "print(texte_chiff.upper())\n",
    "print(texte_clair)"
   ]
  },
  {
   "cell_type": "code",
   "execution_count": null,
   "metadata": {},
   "outputs": [],
   "source": []
  }
 ],
 "metadata": {
  "kernelspec": {
   "display_name": "Python [conda env:anaconda]",
   "language": "python",
   "name": "conda-env-anaconda-py"
  },
  "language_info": {
   "codemirror_mode": {
    "name": "ipython",
    "version": 3
   },
   "file_extension": ".py",
   "mimetype": "text/x-python",
   "name": "python",
   "nbconvert_exporter": "python",
   "pygments_lexer": "ipython3",
   "version": "3.7.9"
  }
 },
 "nbformat": 4,
 "nbformat_minor": 4
}
